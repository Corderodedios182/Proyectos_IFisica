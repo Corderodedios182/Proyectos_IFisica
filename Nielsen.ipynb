{
 "cells": [
  {
   "cell_type": "code",
   "execution_count": 14,
   "metadata": {
    "collapsed": true
   },
   "outputs": [],
   "source": [
    "import pandas as pd\n",
    "\n",
    "file = 'C:/Users/grec1/Documents/Axa Grecia/Base_Final.xlsx'"
   ]
  },
  {
   "cell_type": "code",
   "execution_count": 15,
   "metadata": {},
   "outputs": [
    {
     "name": "stdout",
     "output_type": "stream",
     "text": [
      "['WSP_TOC', 'WSP_Sheet1', 'WSP_Sheet2', 'WSP_Sheet3', 'WSP_Sheet4', 'WSP_Sheet5', 'WSP_Sheet6', 'WSP_Sheet7', 'WSP_Sheet8', 'WSP_Sheet9', 'WSP_Sheet10', 'WSP_Sheet11', 'WSP_Sheet12', 'WSP_Sheet13', 'WSP_Sheet14', 'WSP_Sheet15', 'WSP_Sheet16', 'WSP_Sheet17', 'WSP_Sheet18', 'WSP_Sheet19', 'WSP_Sheet20', 'WSP_Sheet21', 'WSP_Sheet22', 'WSP_Sheet23', 'WSP_Sheet24', 'WSP_Sheet25', 'WSP_Sheet26', 'WSP_Sheet27', 'WSP_Sheet28', 'WSP_Sheet29', 'WSP_Sheet30', 'WSP_Sheet31', 'WSP_Sheet32', 'WSP_Sheet33', 'WSP_Sheet34', 'WSP_Sheet35', 'WSP_Sheet36', 'WSP_Sheet37', 'WSP_Sheet38', 'WSP_Sheet39', 'WSP_Sheet40', 'WSP_Sheet41', 'WSP_Sheet42', 'WSP_Sheet43', 'WSP_Sheet44', 'WSP_Sheet45', 'WSP_Sheet46', 'WSP_Sheet47', 'WSP_Sheet48', 'WSP_Sheet49', 'WSP_Sheet50', 'WSP_Sheet51', 'WSP_Sheet52', 'WSP_Sheet53', 'WSP_Sheet54', 'WSP_Sheet55', 'WSP_Sheet56', 'WSP_Sheet57', 'WSP_Sheet58', 'WSP_Sheet59', 'WSP_Sheet60', 'WSP_Sheet61', 'WSP_Sheet62', 'WSP_Sheet63', 'WSP_Sheet64', 'WSP_Sheet65', 'WSP_Sheet66', 'WSP_Sheet67', 'WSP_Sheet68', 'WSP_Sheet69', 'WSP_Sheet70', 'WSP_Sheet71', 'WSP_Sheet72', 'WSP_Sheet73', 'WSP_Sheet74', 'WSP_Sheet75', 'WSP_Sheet76', 'WSP_Sheet77', 'WSP_Sheet78', 'WSP_Sheet79', 'WSP_Sheet80', 'WSP_Sheet81', 'WSP_Sheet82', 'WSP_Sheet83', 'WSP_Sheet84', 'WSP_Sheet85', 'WSP_Sheet86', 'WSP_Sheet87', 'WSP_Sheet88', 'WSP_Sheet89', 'WSP_Sheet90', 'WSP_Sheet91', 'WSP_Sheet92', 'WSP_Sheet93', 'WSP_Sheet94', 'WSP_Sheet95', 'WSP_Sheet96', 'WSP_Sheet97', 'WSP_Sheet98', 'WSP_Sheet99', 'WSP_Sheet100', 'WSP_Sheet101']\n"
     ]
    }
   ],
   "source": [
    "xl = pd.ExcelFile(file)\n",
    "\n",
    "print(xl.sheet_names)"
   ]
  },
  {
   "cell_type": "code",
   "execution_count": 59,
   "metadata": {},
   "outputs": [],
   "source": [
    "df0 = eval('xl.parse(\"WSP_Sheet'+'1'+'\")')\n",
    "df1 = eval('xl.parse(\"WSP_Sheet'+'2'+'\")')\n",
    "\n"
   ]
  },
  {
   "cell_type": "code",
   "execution_count": 93,
   "metadata": {},
   "outputs": [],
   "source": [
    "df1 = eval('xl.parse(\"WSP_Sheet1\")')"
   ]
  },
  {
   "cell_type": "code",
   "execution_count": 94,
   "metadata": {},
   "outputs": [
    {
     "ename": "TypeError",
     "evalue": "first argument must be an iterable of pandas objects, you passed an object of type \"DataFrame\"",
     "output_type": "error",
     "traceback": [
      "\u001b[1;31m---------------------------------------------------------------------------\u001b[0m",
      "\u001b[1;31mTypeError\u001b[0m                                 Traceback (most recent call last)",
      "\u001b[1;32m<ipython-input-94-a2cea7a923fc>\u001b[0m in \u001b[0;36m<module>\u001b[1;34m()\u001b[0m\n\u001b[0;32m      2\u001b[0m     \u001b[0mdf2\u001b[0m \u001b[1;33m=\u001b[0m \u001b[0meval\u001b[0m\u001b[1;33m(\u001b[0m\u001b[1;34m'xl.parse(\"WSP_Sheet'\u001b[0m\u001b[1;33m+\u001b[0m \u001b[0mstr\u001b[0m\u001b[1;33m(\u001b[0m\u001b[0mx\u001b[0m\u001b[1;33m+\u001b[0m\u001b[1;36m2\u001b[0m\u001b[1;33m)\u001b[0m \u001b[1;33m+\u001b[0m\u001b[1;34m'\")'\u001b[0m\u001b[1;33m)\u001b[0m\u001b[1;33m\u001b[0m\u001b[0m\n\u001b[0;32m      3\u001b[0m \u001b[1;33m\u001b[0m\u001b[0m\n\u001b[1;32m----> 4\u001b[1;33m     \u001b[0mdf1\u001b[0m \u001b[1;33m=\u001b[0m \u001b[0mpd\u001b[0m\u001b[1;33m.\u001b[0m\u001b[0mconcat\u001b[0m\u001b[1;33m(\u001b[0m\u001b[0mdf1\u001b[0m\u001b[1;33m,\u001b[0m\u001b[0mdf2\u001b[0m\u001b[1;33m)\u001b[0m\u001b[1;33m\u001b[0m\u001b[0m\n\u001b[0m",
      "\u001b[1;32mC:\\Users\\grec1\\Anaconda3\\lib\\site-packages\\pandas\\core\\reshape\\concat.py\u001b[0m in \u001b[0;36mconcat\u001b[1;34m(objs, axis, join, join_axes, ignore_index, keys, levels, names, verify_integrity, copy)\u001b[0m\n\u001b[0;32m    204\u001b[0m                        \u001b[0mkeys\u001b[0m\u001b[1;33m=\u001b[0m\u001b[0mkeys\u001b[0m\u001b[1;33m,\u001b[0m \u001b[0mlevels\u001b[0m\u001b[1;33m=\u001b[0m\u001b[0mlevels\u001b[0m\u001b[1;33m,\u001b[0m \u001b[0mnames\u001b[0m\u001b[1;33m=\u001b[0m\u001b[0mnames\u001b[0m\u001b[1;33m,\u001b[0m\u001b[1;33m\u001b[0m\u001b[0m\n\u001b[0;32m    205\u001b[0m                        \u001b[0mverify_integrity\u001b[0m\u001b[1;33m=\u001b[0m\u001b[0mverify_integrity\u001b[0m\u001b[1;33m,\u001b[0m\u001b[1;33m\u001b[0m\u001b[0m\n\u001b[1;32m--> 206\u001b[1;33m                        copy=copy)\n\u001b[0m\u001b[0;32m    207\u001b[0m     \u001b[1;32mreturn\u001b[0m \u001b[0mop\u001b[0m\u001b[1;33m.\u001b[0m\u001b[0mget_result\u001b[0m\u001b[1;33m(\u001b[0m\u001b[1;33m)\u001b[0m\u001b[1;33m\u001b[0m\u001b[0m\n\u001b[0;32m    208\u001b[0m \u001b[1;33m\u001b[0m\u001b[0m\n",
      "\u001b[1;32mC:\\Users\\grec1\\Anaconda3\\lib\\site-packages\\pandas\\core\\reshape\\concat.py\u001b[0m in \u001b[0;36m__init__\u001b[1;34m(self, objs, axis, join, join_axes, keys, levels, names, ignore_index, verify_integrity, copy)\u001b[0m\n\u001b[0;32m    219\u001b[0m             raise TypeError('first argument must be an iterable of pandas '\n\u001b[0;32m    220\u001b[0m                             \u001b[1;34m'objects, you passed an object of type '\u001b[0m\u001b[1;33m\u001b[0m\u001b[0m\n\u001b[1;32m--> 221\u001b[1;33m                             '\"{0}\"'.format(type(objs).__name__))\n\u001b[0m\u001b[0;32m    222\u001b[0m \u001b[1;33m\u001b[0m\u001b[0m\n\u001b[0;32m    223\u001b[0m         \u001b[1;32mif\u001b[0m \u001b[0mjoin\u001b[0m \u001b[1;33m==\u001b[0m \u001b[1;34m'outer'\u001b[0m\u001b[1;33m:\u001b[0m\u001b[1;33m\u001b[0m\u001b[0m\n",
      "\u001b[1;31mTypeError\u001b[0m: first argument must be an iterable of pandas objects, you passed an object of type \"DataFrame\""
     ]
    }
   ],
   "source": [
    "for x in range(100):\n",
    "    df2 = eval('xl.parse(\"WSP_Sheet'+ str(x+2) +'\")')\n",
    "    \n",
    "    df1 = pd.concat(df1,df2)"
   ]
  },
  {
   "cell_type": "code",
   "execution_count": 60,
   "metadata": {},
   "outputs": [],
   "source": [
    "#df_c = pd.concat([df0, df1])"
   ]
  },
  {
   "cell_type": "code",
   "execution_count": 90,
   "metadata": {},
   "outputs": [
    {
     "name": "stdout",
     "output_type": "stream",
     "text": [
      "xl.parse(\"WSP_Sheet3\")\n"
     ]
    }
   ],
   "source": [
    "print('xl.parse(\"WSP_Sheet'+ str(x+2) +'\")')"
   ]
  }
 ],
 "metadata": {
  "kernelspec": {
   "display_name": "Python 3",
   "language": "python",
   "name": "python3"
  },
  "language_info": {
   "codemirror_mode": {
    "name": "ipython",
    "version": 3
   },
   "file_extension": ".py",
   "mimetype": "text/x-python",
   "name": "python",
   "nbconvert_exporter": "python",
   "pygments_lexer": "ipython3",
   "version": "3.6.1"
  }
 },
 "nbformat": 4,
 "nbformat_minor": 2
}
